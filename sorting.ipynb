{
  "nbformat": 4,
  "nbformat_minor": 0,
  "metadata": {
    "colab": {
      "name": "sorting.ipynb",
      "provenance": []
    },
    "kernelspec": {
      "name": "python3",
      "display_name": "Python 3"
    },
    "language_info": {
      "name": "python"
    }
  },
  "cells": [
    {
      "cell_type": "markdown",
      "source": [
        "#selection sorting\n"
      ],
      "metadata": {
        "id": "CD0UHx81_VyK"
      }
    },
    {
      "cell_type": "code",
      "source": [
        "L=[12, 17, 2, 9, 1, 5, 36]\n",
        "\n",
        "for x in range(len(L)-1):\n",
        "  min = x\n",
        "  for j in range(x, len(L)):\n",
        "    if L[j] < L[min]:\n",
        "      min = j\n",
        "  L[x], L[min] = L[min], L[x]\n",
        "print(L) "
      ],
      "metadata": {
        "colab": {
          "base_uri": "https://localhost:8080/"
        },
        "id": "rM7ZzolJE7pa",
        "outputId": "3f4e0f57-71f6-4d51-9eb8-814a2b6e9a93"
      },
      "execution_count": 7,
      "outputs": [
        {
          "output_type": "stream",
          "name": "stdout",
          "text": [
            "[1, 2, 5, 9, 12, 17, 36]\n"
          ]
        }
      ]
    },
    {
      "cell_type": "code",
      "source": [
        "L=[12, 17, 2, 9, 1, 5, 36]\n",
        "i = 0\n",
        "j = 0\n",
        "for i in range(len(L)):\n",
        "  j = i+1\n",
        "  for j in range(len(L)):\n",
        "    if L[i] < L[j]:\n",
        "      temp = L[i]\n",
        "      L[i] = L[j]\n",
        "      L[j] = temp\n",
        "  j = j+1\n",
        "  i = i+1\n",
        "print(L)          "
      ],
      "metadata": {
        "colab": {
          "base_uri": "https://localhost:8080/"
        },
        "id": "NvwublgoLia7",
        "outputId": "9e0f0ece-7545-489d-e4ef-b226088f99a1"
      },
      "execution_count": 19,
      "outputs": [
        {
          "output_type": "stream",
          "name": "stdout",
          "text": [
            "[1, 2, 5, 9, 12, 17, 36]\n"
          ]
        }
      ]
    },
    {
      "cell_type": "markdown",
      "source": [
        "#buble sorting"
      ],
      "metadata": {
        "id": "NXhqFUtGHD1y"
      }
    },
    {
      "cell_type": "code",
      "source": [
        "L=[12, 17, 2, 9, 1, 5, 36]\n",
        "\n",
        "for j in range(len(L)):\n",
        "  for i in range(len(L)-1):\n",
        "    if L[ i ] > L[ i+1 ]:\n",
        "     L[i], L[ i+1] = L[ i+1 ], L[i]\n",
        "print(L)      "
      ],
      "metadata": {
        "colab": {
          "base_uri": "https://localhost:8080/"
        },
        "id": "2AQft60hHEb0",
        "outputId": "9a4e15ca-7414-4656-d1c0-6616a214708b"
      },
      "execution_count": 8,
      "outputs": [
        {
          "output_type": "stream",
          "name": "stdout",
          "text": [
            "[1, 2, 5, 9, 12, 17, 36]\n"
          ]
        }
      ]
    },
    {
      "cell_type": "markdown",
      "source": [
        "#insertion sorting"
      ],
      "metadata": {
        "id": "4idTZx8ONgjT"
      }
    },
    {
      "cell_type": "code",
      "source": [
        "L=[12, 17, 2, 9, 1, 5, 36]\n",
        "for i in range(1, len(L)):\n",
        "  k = L[i]\n",
        "  j = i - 1\n",
        "  while j >= 0 and k < L[j]:\n",
        "    L[j + 1] = L[j]\n",
        "    j = j - 1\n",
        "    L[j + 1] = k\n",
        "print(L)\n",
        "\n"
      ],
      "metadata": {
        "colab": {
          "base_uri": "https://localhost:8080/"
        },
        "id": "drWcSRxqNmTR",
        "outputId": "76cc2733-81a1-4cd1-ac5e-39830c09b4dc"
      },
      "execution_count": 22,
      "outputs": [
        {
          "output_type": "stream",
          "name": "stdout",
          "text": [
            "[1, 2, 5, 9, 12, 17, 36]\n"
          ]
        }
      ]
    }
  ]
}